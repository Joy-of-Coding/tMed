{
 "cells": [
  {
   "cell_type": "code",
   "execution_count": 23,
   "id": "861d7531",
   "metadata": {},
   "outputs": [],
   "source": [
    "import numpy as np\n",
    "import os\n",
    "import cv2\n",
    "import matplotlib.pyplot as plt"
   ]
  },
  {
   "cell_type": "code",
   "execution_count": 24,
   "id": "daf44fb3",
   "metadata": {},
   "outputs": [],
   "source": [
    "# dir_path = os.path.join('..','data', 'images', 'CanField')"
   ]
  },
  {
   "cell_type": "code",
   "execution_count": 25,
   "id": "b402d912",
   "metadata": {},
   "outputs": [],
   "source": [
    "# for img in os.listdir(dir_path):\n",
    "#     img_path = os.path.join (dir_path, img)\n",
    "#     image = cv2.imread(img_path)\n",
    "#     output_path = os.path.join('..','data','output', img)\n",
    "# img = plt.imread('data\\images\\CanField\\ISIC_0000000.jpg')"
   ]
  },
  {
   "cell_type": "code",
   "execution_count": 30,
   "id": "b5fa413b",
   "metadata": {},
   "outputs": [],
   "source": [
    "img_1 = cv2.imread('data\\images\\CanField\\ISIC_0000001.jpg')"
   ]
  },
  {
   "cell_type": "code",
   "execution_count": 34,
   "id": "eed77f37",
   "metadata": {},
   "outputs": [
    {
     "ename": "AttributeError",
     "evalue": "'str' object has no attribute 'mean'",
     "output_type": "error",
     "traceback": [
      "\u001b[1;31m---------------------------------------------------------------------------\u001b[0m",
      "\u001b[1;31mAttributeError\u001b[0m                            Traceback (most recent call last)",
      "Input \u001b[1;32mIn [34]\u001b[0m, in \u001b[0;36m<module>\u001b[1;34m\u001b[0m\n\u001b[1;32m----> 1\u001b[0m greyImg \u001b[38;5;241m=\u001b[39m \u001b[43mimg\u001b[49m\u001b[38;5;241;43m.\u001b[39;49m\u001b[43mmean\u001b[49m(axis\u001b[38;5;241m=\u001b[39m\u001b[38;5;241m2\u001b[39m, keepdims\u001b[38;5;241m=\u001b[39m\u001b[38;5;28;01mTrue\u001b[39;00m)\u001b[38;5;241m/\u001b[39m\u001b[38;5;241m255.0\u001b[39m\n\u001b[0;32m      2\u001b[0m greyImg \u001b[38;5;241m=\u001b[39m np\u001b[38;5;241m.\u001b[39mconcatenate([greyImg]\u001b[38;5;241m*\u001b[39m\u001b[38;5;241m3\u001b[39m, axis\u001b[38;5;241m=\u001b[39m\u001b[38;5;241m2\u001b[39m)\n",
      "\u001b[1;31mAttributeError\u001b[0m: 'str' object has no attribute 'mean'"
     ]
    }
   ],
   "source": [
    "greyImg = img.mean(axis=2, keepdims=True)/255.0\n",
    "greyImg = np.concatenate([greyImg]*3, axis=2)"
   ]
  },
  {
   "cell_type": "code",
   "execution_count": 32,
   "id": "fa378450",
   "metadata": {},
   "outputs": [
    {
     "ename": "NameError",
     "evalue": "name 'greyImg' is not defined",
     "output_type": "error",
     "traceback": [
      "\u001b[1;31m---------------------------------------------------------------------------\u001b[0m",
      "\u001b[1;31mNameError\u001b[0m                                 Traceback (most recent call last)",
      "Input \u001b[1;32mIn [32]\u001b[0m, in \u001b[0;36m<module>\u001b[1;34m\u001b[0m\n\u001b[1;32m----> 1\u001b[0m plt\u001b[38;5;241m.\u001b[39mimshow(\u001b[43mgreyImg\u001b[49m)\n",
      "\u001b[1;31mNameError\u001b[0m: name 'greyImg' is not defined"
     ]
    }
   ],
   "source": [
    "plt.imshow(greyImg)"
   ]
  },
  {
   "cell_type": "code",
   "execution_count": null,
   "id": "07c6bcf8",
   "metadata": {},
   "outputs": [],
   "source": []
  }
 ],
 "metadata": {
  "kernelspec": {
   "display_name": "Python 3 (ipykernel)",
   "language": "python",
   "name": "python3"
  },
  "language_info": {
   "codemirror_mode": {
    "name": "ipython",
    "version": 3
   },
   "file_extension": ".py",
   "mimetype": "text/x-python",
   "name": "python",
   "nbconvert_exporter": "python",
   "pygments_lexer": "ipython3",
   "version": "3.10.1"
  }
 },
 "nbformat": 4,
 "nbformat_minor": 5
}
